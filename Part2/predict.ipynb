{
 "cells": [
  {
   "cell_type": "markdown",
   "metadata": {},
   "source": [
    "#Original Author: Jonathan Hudson\n",
    "#CPSC 501 F22"
   ]
  },
  {
   "cell_type": "markdown",
   "metadata": {
    "colab_type": "text",
    "id": "DhZTTSlltFh2"
   },
   "source": [
    "Imports that are needed"
   ]
  },
  {
   "cell_type": "code",
   "execution_count": 31,
   "metadata": {
    "colab": {},
    "colab_type": "code",
    "id": "KsdVGfVCnQ4J"
   },
   "outputs": [],
   "source": [
    "import sys\n",
    "import tensorflow as tf\n",
    "import numpy as np\n",
    "import matplotlib.pyplot as plt"
   ]
  },
  {
   "cell_type": "markdown",
   "metadata": {
    "colab_type": "text",
    "id": "huG1gu0KtG_a"
   },
   "source": [
    "Determine the arguments\n",
    "A weird way to do a notebook but lets code match non notebook code"
   ]
  },
  {
   "cell_type": "code",
   "execution_count": 32,
   "metadata": {
    "colab": {},
    "colab_type": "code",
    "id": "ukCbw8ydnP3k"
   },
   "outputs": [],
   "source": [
    "sys.argv = [\"\", \"notMNIST\", \"notMNIST.h5\", input(\"Image:\"), \"1\"]"
   ]
  },
  {
   "cell_type": "code",
   "execution_count": 33,
   "metadata": {
    "colab": {},
    "colab_type": "code",
    "id": "6TD50Q9e_0ZE"
   },
   "outputs": [],
   "source": [
    "def check_args():\n",
    "     if(len(sys.argv) != 5):\n",
    "          print(\"Usage python predict.py <MNIST,notMNIST> <model.h5> <image.png> <prediction class index>\")\n",
    "          sys.exit(1)\n",
    "     if sys.argv[1] == \"MNIST\":\n",
    "          print(\"--Dataset MNIST--\")\n",
    "          class_names = list(range(10))\n",
    "     elif sys.argv[1] == \"notMNIST\":\n",
    "          print(\"--Dataset notMNIST--\")\n",
    "          class_names = [\"A\",\"B\",\"C\",\"D\",\"E\",\"F\",\"G\",\"H\",\"I\",\"J\"]\n",
    "     else:\n",
    "          print(f\"Choose MNIST or notMNIST, not {sys.argv[1]}\")\n",
    "          sys.exit(2)\n",
    "     if sys.argv[2][-3:] != \".h5\":\n",
    "          print(f\"{sys.argv[2]} is not a h5 extension\")\n",
    "          sys.exit(3)\n",
    "     if sys.argv[3][-4:] != \".png\":\n",
    "          print(f\"{sys.argv[3]} is not a png extension\")\n",
    "          sys.exit(3)\n",
    "     img = plt.imread(sys.argv[3])\n",
    "     if len(img.shape) != 2:\n",
    "          print(\"Image is not grey scale!\")\n",
    "          sys.exit(4)\n",
    "     if img.shape != (28,28):\n",
    "          print(\"Image is not 28 by 28!\")\n",
    "          sys.exit(4)\n",
    "     if not sys.argv[4].isdigit():\n",
    "          print(f\"{sys.argv[4]} is not an integer (0-9)\")\n",
    "          sys.exit(3)\n",
    "     if int(sys.argv[4]) < 0 or int(sys.argv[4]) > 9 :\n",
    "          print(f\"{sys.argv[4]} is not an integer (0-9)\")\n",
    "          sys.exit(3)\n",
    "     return class_names"
   ]
  },
  {
   "cell_type": "markdown",
   "metadata": {
    "colab_type": "text",
    "id": "GFqxpnv4tjR6"
   },
   "source": [
    "Completed functions to plot for you"
   ]
  },
  {
   "cell_type": "code",
   "execution_count": 34,
   "metadata": {
    "colab": {},
    "colab_type": "code",
    "id": "E75I4-RVeme5"
   },
   "outputs": [],
   "source": [
    "def plot(class_names, prediction, true_label, predicted_label, img):\n",
    "    plt.figure(figsize=(6,3))\n",
    "    plt.subplot(1,2,1)\n",
    "    plt.grid(False)\n",
    "    plt.xticks([])\n",
    "    plt.yticks([])\n",
    "    plt.imshow(img, cmap=plt.cm.binary)\n",
    "    predicted_label = np.argmax(prediction)\n",
    "    if predicted_label == true_label:\n",
    "        color = 'blue'\n",
    "    else:\n",
    "        color = 'red'\n",
    "    plt.xlabel(\"{} {:2.0f}% ({})\".format(class_names[predicted_label],100*np.max(prediction),class_names[true_label]),color=color)\n",
    "    plt.subplot(1,2,2)\n",
    "    plt.grid(False)\n",
    "    plt.xticks(range(10))\n",
    "    plt.yticks([])\n",
    "    thisplot = plt.bar(class_names, prediction, color=\"#777777\")\n",
    "    plt.ylim([0, 1])\n",
    "    thisplot[predicted_label].set_color('red')\n",
    "    thisplot[true_label].set_color('blue')"
   ]
  },
  {
   "cell_type": "markdown",
   "metadata": {
    "colab_type": "text",
    "id": "kL_b5WbYtonX"
   },
   "source": [
    "Finish the missing parts of function to predict output from input"
   ]
  },
  {
   "cell_type": "code",
   "execution_count": 35,
   "metadata": {
    "colab": {},
    "colab_type": "code",
    "id": "GChTgYKGtoFN"
   },
   "outputs": [
    {
     "name": "stdout",
     "output_type": "stream",
     "text": [
      "--Dataset notMNIST--\n",
      "--Load Model notMNIST.h5--\n",
      "--Load Image image-e.png--\n",
      "--Predict as Class 1--\n",
      "1/1 [==============================] - 0s 46ms/step\n",
      "[0.034325443, 0.07306173, 0.2016758, 0.050757956, 0.18355232, 0.17442462, 0.12359855, 0.052796997, 0.08720646, 0.018600164]\n",
      "2\n"
     ]
    },
    {
     "data": {
      "image/png": "[encoded data removed]",
      "text/plain": [
       "<Figure size 432x216 with 2 Axes>"
      ]
     },
     "metadata": {
      "needs_background": "light"
     },
     "output_type": "display_data"
    }
   ],
   "source": [
    "def main():\n",
    "     class_names = check_args()\n",
    "     print(f\"--Load Model {sys.argv[2]}--\")\n",
    "     #Load the model that should be in sys.argv[2]\n",
    "     model = tf.keras.models.load_model(sys.argv[2])\n",
    "     print(f\"--Load Image {sys.argv[3]}--\")\n",
    "     img = plt.imread(sys.argv[3])\n",
    "     if np.amax(img.flatten()) > 1:\n",
    "          img = img/255\n",
    "     img = 1 - img\n",
    "     print(f\"--Predict as Class {sys.argv[4]}--\")\n",
    "     predict(model, class_names, img, int(sys.argv[4]))\n",
    "\n",
    "def predict(model, class_names, img, true_label):\n",
    "    img = np.array([img])\n",
    "    #Replace these two lines with code to make a prediction\n",
    "    prediction = model.predict(img)[0]\n",
    "    print(list(prediction))\n",
    "    #Determine what the predicted label is\n",
    "    predicted_label = list(prediction).index(max(prediction))\n",
    "    print(predicted_label)\n",
    "    plot(class_names, prediction, true_label, predicted_label, img[0])\n",
    "    plt.show()\n",
    "main()"
   ]
  },
  {
   "cell_type": "code",
   "execution_count": null,
   "metadata": {},
   "outputs": [],
   "source": []
  }
 ],
 "metadata": {
  "colab": {
   "collapsed_sections": [],
   "name": "predict.ipynb",
   "provenance": []
  },
  "kernelspec": {
   "display_name": "Python 3.10.0 64-bit",
   "language": "python",
   "name": "python3"
  },
  "language_info": {
   "codemirror_mode": {
    "name": "ipython",
    "version": 3
   },
   "file_extension": ".py",
   "mimetype": "text/x-python",
   "name": "python",
   "nbconvert_exporter": "python",
   "pygments_lexer": "ipython3",
   "version": "3.10.0"
  },
  "vscode": {
   "interpreter": {
    "hash": "6147a3875682d3b35bc881930f44cfb7e386494aa5ac23aa95e7576a6d333a4e"
   }
  }
 },
 "nbformat": 4,
 "nbformat_minor": 4
}
