{
 "cells": [
  {
   "cell_type": "markdown",
   "metadata": {},
   "source": [
    "#Original Author: Jonathan Hudson\n",
    "#CPSC 501 F22"
   ]
  },
  {
   "cell_type": "markdown",
   "metadata": {
    "id": "DhZTTSlltFh2"
   },
   "source": [
    "Imports that are needed"
   ]
  },
  {
   "cell_type": "code",
   "execution_count": 1,
   "metadata": {
    "id": "KsdVGfVCnQ4J"
   },
   "outputs": [],
   "source": [
    "import sys\n",
    "import tensorflow as tf\n",
    "import numpy as np\n",
    "import matplotlib.pyplot as plt"
   ]
  },
  {
   "cell_type": "markdown",
   "metadata": {
    "id": "huG1gu0KtG_a"
   },
   "source": [
    "Determine the arguments"
   ]
  },
  {
   "cell_type": "code",
   "execution_count": 2,
   "metadata": {
    "id": "ukCbw8ydnP3k"
   },
   "outputs": [],
   "source": [
    "sys.argv = [\"\", input(\"Dataset:\"), input(\"Model:\")]"
   ]
  },
  {
   "cell_type": "code",
   "execution_count": 3,
   "metadata": {
    "id": "6TD50Q9e_0ZE"
   },
   "outputs": [],
   "source": [
    "def check_args():\n",
    "     if(len(sys.argv) != 3):\n",
    "          print(\"Usage python predict_test.py <MNIST,notMNIST> <model.h5>\")\n",
    "          sys.exit(1)\n",
    "     if sys.argv[1] == \"MNIST\":\n",
    "          print(\"--Dataset MNIST--\")\n",
    "          class_names = list(range(10))\n",
    "          mnist = tf.keras.datasets.mnist\n",
    "          (x_train, y_train), (x_test, y_test) = mnist.load_data()\n",
    "          x_train, x_test = x_train / 255.0, x_test / 255.0\n",
    "          data = (x_test, y_test)\n",
    "     elif sys.argv[1] == \"notMNIST\":\n",
    "          print(\"--Dataset notMNIST--\")\n",
    "          class_names = [\"A\",\"B\",\"C\",\"D\",\"E\",\"F\",\"G\",\"H\",\"I\",\"J\"]\n",
    "          with np.load(\"notMNIST.npz\", allow_pickle=True) as f:\n",
    "            x_train, y_train = f['x_train'], f['y_train']\n",
    "            x_test, y_test = f['x_test'], f['y_test']\n",
    "          x_train, x_test = x_train / 255.0, x_test / 255.0\n",
    "          data = (x_test, y_test)\n",
    "     else:\n",
    "          print(f\"Choose MNIST or notMNIST, not {sys.argv[1]}\")\n",
    "          sys.exit(2)\n",
    "     if sys.argv[2][-3:] != \".h5\":\n",
    "          print(f\"{sys.argv[2]} is not a h5 extension\")\n",
    "          sys.exit(3)\n",
    "     return class_names, data"
   ]
  },
  {
   "cell_type": "markdown",
   "metadata": {
    "id": "GFqxpnv4tjR6"
   },
   "source": [
    "Completed functions to plot for you"
   ]
  },
  {
   "cell_type": "code",
   "execution_count": 4,
   "metadata": {
    "id": "E75I4-RVeme5"
   },
   "outputs": [],
   "source": [
    "def plot(class_names, prediction, true_label, predicted_label, img):\n",
    "    plt.figure(figsize=(6,3))\n",
    "    plt.subplot(1,2,1)\n",
    "    plt.grid(False)\n",
    "    plt.xticks([])\n",
    "    plt.yticks([])\n",
    "    plt.imshow(img, cmap=plt.cm.binary)\n",
    "    predicted_label = np.argmax(prediction)\n",
    "    if predicted_label == true_label:\n",
    "        color = 'blue'\n",
    "    else:\n",
    "        color = 'red'\n",
    "    plt.xlabel(\"{} {:2.0f}% ({})\".format(class_names[predicted_label],100*np.max(prediction),class_names[true_label]),color=color)\n",
    "    plt.subplot(1,2,2)\n",
    "    plt.grid(False)\n",
    "    plt.xticks(range(10))\n",
    "    plt.yticks([])\n",
    "    thisplot = plt.bar(class_names, prediction, color=\"#777777\")\n",
    "    plt.ylim([0, 1])\n",
    "    thisplot[predicted_label].set_color('red')\n",
    "    thisplot[true_label].set_color('blue')"
   ]
  },
  {
   "cell_type": "markdown",
   "metadata": {
    "id": "kL_b5WbYtonX"
   },
   "source": [
    "Finish this function to predict output from input"
   ]
  },
  {
   "cell_type": "code",
   "execution_count": 5,
   "metadata": {
    "id": "GChTgYKGtoFN"
   },
   "outputs": [
    {
     "name": "stdout",
     "output_type": "stream",
     "text": [
      "Choose MNIST or notMNIST, not 1\n"
     ]
    },
    {
     "ename": "SystemExit",
     "evalue": "2",
     "output_type": "error",
     "traceback": [
      "An exception has occurred, use %tb to see the full traceback.\n",
      "\u001b[1;31mSystemExit\u001b[0m\u001b[1;31m:\u001b[0m 2\n"
     ]
    },
    {
     "name": "stderr",
     "output_type": "stream",
     "text": [
      "c:\\Users\\21269\\AppData\\Local\\Programs\\Python\\Python310\\lib\\site-packages\\IPython\\core\\interactiveshell.py:3452: UserWarning: To exit: use 'exit', 'quit', or Ctrl-D.\n",
      "  warn(\"To exit: use 'exit', 'quit', or Ctrl-D.\", stacklevel=1)\n"
     ]
    }
   ],
   "source": [
    "def main():\n",
    "     class_names, data = check_args()\n",
    "     x_test, y_test = data\n",
    "     print(f\"--Load Model {sys.argv[2]}--\")\n",
    "     #Load the model that should be in sys.argv[2]\n",
    "     model = None     \n",
    "     pick = input(f\"Pick test_image (0 -> {len(x_test)-1}):\")\n",
    "     while pick.isdigit() and int(pick) >= 0 and int(pick) < len(x_test):\n",
    "        pick = int(pick)\n",
    "        img = x_test[pick]\n",
    "        guess = y_test[pick]\n",
    "        print(f\"--Should be Class {guess}--\")\n",
    "        predict(model, class_names, img, guess)\n",
    "        pick = input(f\"Pick test_image (0 -> {len(x_test)-1}):\")\n",
    "     print(\"Done\")\n",
    "\n",
    "def predict(model, class_names, img, true_label):\n",
    "    img = np.array([img])\n",
    "    #Replace these two lines with code to make a prediction\n",
    "    prediction = [1/10,1/10,1/10,1/10,1/10,1/10,1/10,1/10,1/10,1/10]\n",
    "    #Determine what the predicted label is\n",
    "    predicted_label = 0\n",
    "    plot(class_names, prediction, true_label, predicted_label, img[0])\n",
    "    plt.show()\n",
    "main()"
   ]
  },
  {
   "cell_type": "code",
   "execution_count": null,
   "metadata": {},
   "outputs": [],
   "source": []
  }
 ],
 "metadata": {
  "colab": {
   "collapsed_sections": [],
   "name": "predict_test.ipynb",
   "provenance": []
  },
  "kernelspec": {
   "display_name": "Python 3.10.0 64-bit",
   "language": "python",
   "name": "python3"
  },
  "language_info": {
   "codemirror_mode": {
    "name": "ipython",
    "version": 3
   },
   "file_extension": ".py",
   "mimetype": "text/x-python",
   "name": "python",
   "nbconvert_exporter": "python",
   "pygments_lexer": "ipython3",
   "version": "3.10.0"
  },
  "vscode": {
   "interpreter": {
    "hash": "6147a3875682d3b35bc881930f44cfb7e386494aa5ac23aa95e7576a6d333a4e"
   }
  }
 },
 "nbformat": 4,
 "nbformat_minor": 4
}
