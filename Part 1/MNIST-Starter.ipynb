{
 "cells": [
  {
   "cell_type": "markdown",
   "id": "d92862b6-bcf2-4ab6-bc47-eaa07c2a015f",
   "metadata": {},
   "source": [
    "#Original Author: Jonathan Hudson\n",
    "#CPSC 501 F22"
   ]
  },
  {
   "cell_type": "code",
   "execution_count": 28,
   "id": "fa11a3c3",
   "metadata": {},
   "outputs": [],
   "source": [
    "import tensorflow as tf\n",
    "from keras.layers import Dense"
   ]
  },
  {
   "cell_type": "code",
   "execution_count": 29,
   "id": "38265ac1-5c33-4324-aedc-155483f53ab8",
   "metadata": {},
   "outputs": [
    {
     "name": "stdout",
     "output_type": "stream",
     "text": [
      "--Get data--\n",
      "--Process data--\n"
     ]
    }
   ],
   "source": [
    "\n",
    "tf.random.set_seed(1234)\n",
    "\n",
    "print(\"--Get data--\")\n",
    "mnist = tf.keras.datasets.mnist\n",
    "(x_train, y_train), (x_test, y_test) = mnist.load_data()\n",
    "\n",
    "print(\"--Process data--\")\n",
    "x_train, x_test = x_train / 255.0, x_test / 255.0"
   ]
  },
  {
   "cell_type": "code",
   "execution_count": 30,
   "id": "b118e511-7d40-4d34-96e0-e403a020d356",
   "metadata": {},
   "outputs": [
    {
     "name": "stdout",
     "output_type": "stream",
     "text": [
      "--Make model--\n",
      "--Fit model--\n",
      "1875/1875 - 3s - loss: 0.2131 - accuracy: 0.9362 - 3s/epoch - 1ms/step\n"
     ]
    },
    {
     "data": {
      "text/plain": [
       "<keras.callbacks.History at 0x124ef0e9ed0>"
      ]
     },
     "execution_count": 30,
     "metadata": {},
     "output_type": "execute_result"
    }
   ],
   "source": [
    "print(\"--Make model--\")\n",
    "#Adding Dense layers with relu activation to increase the model's accuracy\n",
    "model = tf.keras.models.Sequential([\n",
    "  tf.keras.layers.Flatten(input_shape=(28, 28)),\n",
    "  Dense(256, activation='relu'),\n",
    "  Dense(128, activation='relu'),\n",
    "  Dense(64, activation='relu'),\n",
    "  Dense(10, activation='softmax')\n",
    "])\n",
    "#Changing the model optimizer to adam\n",
    "model.compile(optimizer='adam', loss='sparse_categorical_crossentropy', metrics=['accuracy'])\n",
    "\n",
    "print(\"--Fit model--\")\n",
    "model.fit(x_train, y_train, epochs=1, verbose=2)"
   ]
  },
  {
   "cell_type": "code",
   "execution_count": 31,
   "id": "0386efc2-843f-4805-8f5d-e25125e677dc",
   "metadata": {},
   "outputs": [
    {
     "name": "stdout",
     "output_type": "stream",
     "text": [
      "--Evaluate model--\n",
      "1875/1875 - 1s - loss: 0.0957 - accuracy: 0.9706 - 1s/epoch - 779us/step\n",
      "313/313 - 0s - loss: 0.1192 - accuracy: 0.9630 - 341ms/epoch - 1ms/step\n",
      "Train / Test Accuracy: 97.1% / 96.3%\n"
     ]
    }
   ],
   "source": [
    "print(\"--Evaluate model--\")\n",
    "model_loss1, model_acc1 = model.evaluate(x_train,  y_train, verbose=2)\n",
    "model_loss2, model_acc2 = model.evaluate(x_test,  y_test, verbose=2)\n",
    "print(f\"Train / Test Accuracy: {model_acc1*100:.1f}% / {model_acc2*100:.1f}%\")"
   ]
  },
  {
   "cell_type": "markdown",
   "id": "669a873d",
   "metadata": {},
   "source": [
    "# Saving the model"
   ]
  },
  {
   "cell_type": "code",
   "execution_count": 32,
   "id": "c8845076",
   "metadata": {},
   "outputs": [],
   "source": [
    "model.save(\"MNIST.h5\")"
   ]
  }
 ],
 "metadata": {
  "kernelspec": {
   "display_name": "Python 3.10.0 64-bit",
   "language": "python",
   "name": "python3"
  },
  "language_info": {
   "codemirror_mode": {
    "name": "ipython",
    "version": 3
   },
   "file_extension": ".py",
   "mimetype": "text/x-python",
   "name": "python",
   "nbconvert_exporter": "python",
   "pygments_lexer": "ipython3",
   "version": "3.10.0"
  },
  "vscode": {
   "interpreter": {
    "hash": "6147a3875682d3b35bc881930f44cfb7e386494aa5ac23aa95e7576a6d333a4e"
   }
  }
 },
 "nbformat": 4,
 "nbformat_minor": 5
}
